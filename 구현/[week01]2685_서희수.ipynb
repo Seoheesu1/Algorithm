{
 "cells": [
  {
   "cell_type": "markdown",
   "metadata": {},
   "source": [
    "### 2685: 님비합 "
   ]
  },
  {
   "cell_type": "markdown",
   "metadata": {},
   "source": [
    "#### 40분 소요 런타임에러 해결 못함"
   ]
  },
  {
   "cell_type": "code",
   "execution_count": 57,
   "metadata": {},
   "outputs": [
    {
     "name": "stdout",
     "output_type": "stream",
     "text": [
      "4\n",
      "2 123 456\n",
      "3 123 456\n",
      "4 123 456\n",
      "5 123 456\n",
      "435\n",
      "300\n",
      "307\n",
      "429\n"
     ]
    }
   ],
   "source": [
    "n = int(input())\n",
    "result = []\n",
    "for _ in range(n):\n",
    "    n, a, b = (int(i) for i in input().split())\n",
    "    t_a = ''\n",
    "    t_b = ''\n",
    "    x=10\n",
    "    while a>0:\n",
    "        a, mod = divmod(a,n)\n",
    "        t_a +=str(mod)\n",
    "\n",
    "    while b>0:\n",
    "        b, mod = divmod(b,n)\n",
    "        t_b +=str(mod)\n",
    "        \n",
    "    if len(t_a)>=len(t_b):\n",
    "        t_b+=(len(t_a)-len(t_b))*'0'\n",
    "    else:\n",
    "        t_a+=(len(t_b)-len(t_a))*'0'\n",
    "     \n",
    "    NimSum = ''\n",
    "    for i in range(len(t_b)):\n",
    "        _, mod = divmod(int(t_a[i])+int(t_b[i]),n)\n",
    "        NimSum+=str(mod)\n",
    "     \n",
    "    result.append((NimSum[::-1],n))\n",
    "\n",
    "for i,n in result:\n",
    "    print(int(i,n))"
   ]
  }
 ],
 "metadata": {
  "kernelspec": {
   "display_name": "Python 3",
   "language": "python",
   "name": "python3"
  },
  "language_info": {
   "codemirror_mode": {
    "name": "ipython",
    "version": 3
   },
   "file_extension": ".py",
   "mimetype": "text/x-python",
   "name": "python",
   "nbconvert_exporter": "python",
   "pygments_lexer": "ipython3",
   "version": "3.7.9"
  }
 },
 "nbformat": 4,
 "nbformat_minor": 4
}
